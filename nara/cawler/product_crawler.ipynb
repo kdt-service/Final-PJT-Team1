{
 "cells": [
  {
   "cell_type": "code",
   "execution_count": 2,
   "metadata": {},
   "outputs": [],
   "source": [
    "import requests\n",
    "import json\n",
    "import pandas as pd\n",
    "from etc_func import read_json_file, save_list_to_txt"
   ]
  },
  {
   "cell_type": "code",
   "execution_count": 2,
   "metadata": {},
   "outputs": [],
   "source": [
    "url1 = 'https://api.bunjang.co.kr/api/1/categories/list.json' # mainpage / 카테고리\n",
    "cat1 = 'https://api.bunjang.co.kr/api/1/find_v2.json?f_category_id=310090&page=0&order=date&req_ref=popular_category&request_id=2023516235228&stat_device=w&n=100&version=4'\n",
    "product = 'https://api.bunjang.co.kr/api/pms/v1/products-detail/223677944?viewerUid=-1'"
   ]
  },
  {
   "cell_type": "code",
   "execution_count": 3,
   "metadata": {},
   "outputs": [],
   "source": [
    "catenum = read_json_file('bungae_unique_category_numbers.json')\n",
    "catestr = read_json_file('bungae_mapping_category_nums_and_titles.json')"
   ]
  },
  {
   "cell_type": "code",
   "execution_count": 4,
   "metadata": {},
   "outputs": [],
   "source": [
    "id_list = []\n",
    "for cateid, subid in catenum.items() :\n",
    "    for k, v in subid.items() :\n",
    "        if v[0] == None:\n",
    "            id_list.append(k)\n",
    "        else:\n",
    "            for n in v :\n",
    "                id_list.append(n)\n",
    "                \n",
    "id_dict = {}\n",
    "for id in id_list:\n",
    "    id_dict[catestr[id]] = id"
   ]
  },
  {
   "cell_type": "code",
   "execution_count": 5,
   "metadata": {},
   "outputs": [],
   "source": [
    "results_idlist = []\n",
    "for id in id_list:\n",
    "\n",
    "    BASE_url = 'https://api.bunjang.co.kr/api/1/find_v2.json?f_category_id={}&page=0&order=date&n=100'.format(id)\n",
    "    id_js = json.loads(requests.get(BASE_url).text)\n",
    "\n",
    "    if id_js['num_found'] > 400 :\n",
    "        page = 4\n",
    "    else :\n",
    "        page = id_js['num_found'] // 100 if id_js['num_found'] % 100 == 0 else id_js['num_found'] // 100 + 1\n",
    "\n",
    "    for pg in range(page) :\n",
    "\n",
    "        crawl_url = 'https://api.bunjang.co.kr/api/1/find_v2.json?f_category_id={}&page={}&order=date&n=100'.format(id, pg)\n",
    "        product_js = json.loads(requests.get(crawl_url).text)\n",
    "\n",
    "        for product in product_js['list']:\n",
    "            results_idlist.append(product['pid'])"
   ]
  },
  {
   "cell_type": "code",
   "execution_count": 16,
   "metadata": {},
   "outputs": [
    {
     "data": {
      "text/plain": [
       "233381"
      ]
     },
     "execution_count": 16,
     "metadata": {},
     "output_type": "execute_result"
    }
   ],
   "source": [
    "len(results_idlist)"
   ]
  },
  {
   "cell_type": "code",
   "execution_count": 10,
   "metadata": {},
   "outputs": [
    {
     "name": "stdout",
     "output_type": "stream",
     "text": [
      "id_list.txt 저장완료!\n"
     ]
    }
   ],
   "source": [
    "save_list_to_txt(results_idlist, 'id_list.txt')"
   ]
  },
  {
   "cell_type": "code",
   "execution_count": 37,
   "metadata": {},
   "outputs": [
    {
     "name": "stdout",
     "output_type": "stream",
     "text": [
      "['210375951', '햄스터 용품 나눔받아요ㅠ', 'https://media.bunjang.co.kr/product/195834749_{cnt}_1668440779_w{res}.jpg', 1004, '배송비는 제가 부담 할게요ㅠㅠ\\n간식들좀 나눔 해주세요ㅠㅠ 6마리 있는데 학생이고 학교가 왕복 4시간이 걸려서 알바도 못하는지라 그리고 용돈도 적게 받아서 돈이 별로 없어서요ㅠㅠ 나눔해주시면 정말 감사하게 받을게요ㅜㅜ 후기도 원하시면 작성 잘 할수 있습니다ㅠㅠ', '980999', '2022-12-28T11:55:18.392Z', 'SOLD_OUT', 'USED']\n"
     ]
    }
   ],
   "source": [
    "\n",
    "product = 'https://api.bunjang.co.kr/api/pms/v1/products-detail/{}?viewerUid=-1'.format(195834749)\n",
    "product_info = json.loads(requests.get(product).text)\n",
    "\n",
    "product_id = id\n",
    "product_name = product_info['data']['product']['name'] # 제품명\n",
    "image_url = product_info['data']['product']['imageUrl'] # 이미지url\n",
    "price = product_info['data']['product']['price'] # 가격\n",
    "info = product_info['data']['product']['description'] # 제품설명\n",
    "cat_id = product_info['data']['product']['category']['id'] # 카테고리 id\n",
    "date = product_info['data']['product']['updatedAt'] # date 형태가 '2023-05-16T16:18:23.422Z'\n",
    "sale_status = product_info['data']['product']['saleStatus'] # 판매상태\n",
    "status = product_info['data']['product']['status'] # 상품상태\n",
    "\n",
    "df_list = [product_id ,product_name, image_url, price, info, cat_id, date, sale_status, status]\n",
    "\n",
    "print(df_list)"
   ]
  },
  {
   "cell_type": "code",
   "execution_count": null,
   "metadata": {},
   "outputs": [],
   "source": [
    "for id in results_idlist[:20]:\n",
    "    \n",
    "    product = 'https://api.bunjang.co.kr/api/pms/v1/products-detail/{}?viewerUid=-1'.format(id)\n",
    "    product_info = json.loads(requests.get(product).text)\n",
    "\n",
    "    product_id = id\n",
    "    product_name = product_info['data']['product']['name'] # 제품명\n",
    "    image_url = product_info['data']['product']['imageUrl'] # 이미지url\n",
    "    price = product_info['data']['product']['price'] # 가격\n",
    "    info = product_info['data']['product']['description'] # 제품설명\n",
    "    cat_id = product_info['data']['product']['category']['id'] # 카테고리 id\n",
    "    date = product_info['data']['product']['updatedAt'] # date 형태가 '2023-05-16T16:18:23.422Z'\n",
    "    sale_status = product_info['data']['product']['saleStatus'] # 판매상태\n",
    "    status = product_info['data']['product']['status'] # 상품상태\n",
    "\n",
    "    df_list = [product_id ,product_name, image_url, price, info, cat_id, date, sale_status, status]\n",
    "\n",
    "    print(df_list)"
   ]
  },
  {
   "cell_type": "code",
   "execution_count": 12,
   "metadata": {},
   "outputs": [],
   "source": [
    "product_df = pd.DataFrame(columns=['id' ,'product_name', 'image_list', 'price', 'info', 'cat_1', 'cat_2', 'cat_3', 'date'])\n",
    "\n",
    "df_list = ['id' ,'product_name', 'image_list', 'price', 'info', 'cat_1', 'cat_2', 'cat_3', 'date']\n",
    "\n",
    "product_df.loc[len(product_df)] = df_list\n"
   ]
  },
  {
   "cell_type": "code",
   "execution_count": 34,
   "metadata": {},
   "outputs": [],
   "source": [
    "with open('id_list.txt', 'r') as f:\n",
    "        data = f.readlines()\n",
    "\n",
    "dlist = []\n",
    "for i in data:\n",
    "    a = list(map(lambda s: s.strip(), i.split(', ')))\n",
    "    dlist += a"
   ]
  },
  {
   "cell_type": "code",
   "execution_count": 35,
   "metadata": {},
   "outputs": [
    {
     "data": {
      "text/plain": [
       "233381"
      ]
     },
     "execution_count": 35,
     "metadata": {},
     "output_type": "execute_result"
    }
   ],
   "source": [
    "len(dlist) "
   ]
  },
  {
   "cell_type": "code",
   "execution_count": 8,
   "metadata": {},
   "outputs": [
    {
     "data": {
      "text/plain": [
       "False"
      ]
     },
     "execution_count": 8,
     "metadata": {},
     "output_type": "execute_result"
    }
   ],
   "source": [
    "dlist[::2] == dlist[1::2]"
   ]
  },
  {
   "cell_type": "code",
   "execution_count": 33,
   "metadata": {},
   "outputs": [
    {
     "data": {
      "text/plain": [
       "'https://media.bunjang.co.kr/product/208718800_{cnt}_1677205227_w{res}.jpg'"
      ]
     },
     "execution_count": 33,
     "metadata": {},
     "output_type": "execute_result"
    }
   ],
   "source": [
    "b = pd.read_csv('testdata3.csv')\n",
    "b['image_url'][0]"
   ]
  },
  {
   "cell_type": "code",
   "execution_count": 32,
   "metadata": {},
   "outputs": [
    {
     "ename": "NameError",
     "evalue": "name 'b' is not defined",
     "output_type": "error",
     "traceback": [
      "\u001b[1;31m---------------------------------------------------------------------------\u001b[0m",
      "\u001b[1;31mNameError\u001b[0m                                 Traceback (most recent call last)",
      "Cell \u001b[1;32mIn[32], line 1\u001b[0m\n\u001b[1;32m----> 1\u001b[0m \u001b[39mlen\u001b[39m(b)\n",
      "\u001b[1;31mNameError\u001b[0m: name 'b' is not defined"
     ]
    }
   ],
   "source": [
    "len(b)"
   ]
  },
  {
   "cell_type": "code",
   "execution_count": 3,
   "metadata": {},
   "outputs": [
    {
     "name": "stdout",
     "output_type": "stream",
     "text": [
      "[<built-in function id>, '레파시 슈퍼푸드 망고슈퍼블렌드 85g', 'https://media.bunjang.co.kr/product/174658423_{cnt}_1640925497_w{res}.jpg', 13000, '980999', '2022-08-30T01:41:46.458Z', 'SOLD_OUT', 'USED']\n"
     ]
    }
   ],
   "source": [
    "product = 'https://api.bunjang.co.kr/api/pms/v1/products-detail/{}?viewerUid=-1'.format(174658423)\n",
    "response = requests.get(product)\n",
    "product_info = response.json()\n",
    "product_name = product_info['data']['product']['name'] # 제품명\n",
    "image_url = product_info['data']['product']['imageUrl'] # 이미지url\n",
    "price = product_info['data']['product']['price'] # 가격\n",
    "# info = product_info['data']['product']['description'].replace('\\n', ' ').strip() # 제품설명\n",
    "cat_id = product_info['data']['product']['category']['id'] # 카테고리 id\n",
    "date = product_info['data']['product']['updatedAt'] # date 형태가 '2023-05-16T16:18:23.422Z'\n",
    "sale_status = product_info['data']['product']['saleStatus'] # 판매상태\n",
    "status = product_info['data']['product']['status'] # 상품상태\n",
    "\n",
    "a = [id, product_name, image_url, price, cat_id, date, sale_status, status]\n",
    "\n",
    "print(a)\n"
   ]
  },
  {
   "cell_type": "code",
   "execution_count": 42,
   "metadata": {},
   "outputs": [
    {
     "name": "stdout",
     "output_type": "stream",
     "text": [
      "True\n"
     ]
    }
   ],
   "source": [
    "if (response.status_code == 200) and (response.headers[\"content-type\"].strip().startswith(\"application/json\")):\n",
    "    print(True)\n"
   ]
  },
  {
   "cell_type": "code",
   "execution_count": 25,
   "metadata": {},
   "outputs": [],
   "source": [
    "vv = read_json_file('bungae_mapping_category_nums_and_titles.json')"
   ]
  },
  {
   "cell_type": "code",
   "execution_count": null,
   "metadata": {},
   "outputs": [],
   "source": [
    "import requests\n",
    "\n",
    "response = requests.get(product)\n",
    "print(response)\n",
    "response.raise_for_status()  # raises exception when not a 2xx response\n",
    "if response.status_code == 200:\n",
    "    print(response.json())"
   ]
  },
  {
   "cell_type": "code",
   "execution_count": null,
   "metadata": {},
   "outputs": [],
   "source": [
    "if (\n",
    "    response.status_code != 204 and\n",
    "    response.headers[\"content-type\"].strip().startswith(\"application/json\")\n",
    "):\n",
    "    try:\n",
    "        return response.json()\n",
    "    except ValueError:\n",
    "        # decide how to handle a server that's misbehaving to this extent\n"
   ]
  },
  {
   "cell_type": "code",
   "execution_count": 10,
   "metadata": {},
   "outputs": [],
   "source": [
    "bg =pd.read_csv('BGZT3.csv')"
   ]
  },
  {
   "cell_type": "code",
   "execution_count": null,
   "metadata": {},
   "outputs": [],
   "source": [
    "bg"
   ]
  },
  {
   "cell_type": "code",
   "execution_count": 29,
   "metadata": {},
   "outputs": [
    {
     "name": "stdout",
     "output_type": "stream",
     "text": [
      "https://search.shopping.naver.com/search/category/?catId=50000842&origQuery&pagingIndex=2&productSet=model\n"
     ]
    }
   ],
   "source": [
    "BASE_URL = 'https://search.shopping.naver.com/search/category/?catId={}&origQuery&pagingIndex={}&productSet=model'.format(50000842,2)\n",
    "Params = {\n",
    "    'catId' : 50000842,\n",
    "    'pagingIndex' : 2\n",
    "\n",
    "}\n",
    "\n",
    "print(URL)"
   ]
  }
 ],
 "metadata": {
  "kernelspec": {
   "display_name": "study",
   "language": "python",
   "name": "python3"
  },
  "language_info": {
   "codemirror_mode": {
    "name": "ipython",
    "version": 3
   },
   "file_extension": ".py",
   "mimetype": "text/x-python",
   "name": "python",
   "nbconvert_exporter": "python",
   "pygments_lexer": "ipython3",
   "version": "3.10.9"
  },
  "orig_nbformat": 4
 },
 "nbformat": 4,
 "nbformat_minor": 2
}
